{
 "cells": [
  {
   "cell_type": "code",
   "execution_count": null,
   "id": "24290c56-988b-48cb-9f00-faa568f8c5ef",
   "metadata": {},
   "outputs": [],
   "source": [
    "from kafka import KafkaConsumer\n",
    "from time import sleep\n",
    "from json import loads\n",
    "import json\n",
    "from s3fs import S3FileSystem"
   ]
  },
  {
   "cell_type": "code",
   "execution_count": 1,
   "id": "c616e62c-e63c-4021-a670-cdde5ff47120",
   "metadata": {},
   "outputs": [],
   "source": [
    "def initialize_consumer(topic, bootstrap_servers):\n",
    "    \"\"\"Initialize Kafka consumer.\"\"\"\n",
    "    return KafkaConsumer(\n",
    "        topic,\n",
    "        bootstrap_servers=bootstrap_servers,\n",
    "        value_deserializer=lambda x: loads(x.decode('utf-8'))\n",
    "    )\n"
   ]
  },
  {
   "cell_type": "code",
   "execution_count": null,
   "id": "8bd97834-3f2e-486c-967f-3051dea1c2ce",
   "metadata": {},
   "outputs": [],
   "source": [
    "def write_to_s3(s3, bucket, key, data):\n",
    "    \"\"\"Write data to S3.\"\"\"\n",
    "    with s3.open(f\"s3://{bucket}/{key}\", 'w') as file:\n",
    "        json.dump(data, file)"
   ]
  },
  {
   "cell_type": "code",
   "execution_count": null,
   "id": "3bad0095-e2e9-49e3-8dae-d378c4679d79",
   "metadata": {},
   "outputs": [],
   "source": [
    "\n",
    "topic = 'demo_test'\n",
    "bootstrap_servers = ['your_ip_here:9092']  # Replace with your IP\n",
    "s3_bucket = 'S3 bucket here'\n",
    "\n",
    "consumer = initialize_consumer(topic, bootstrap_servers)\n",
    "s3 = S3FileSystem()\n",
    "\n",
    "for count, message in enumerate(consumer):\n",
    "    key = f\"stock_market_{count}.json\"\n",
    "    write_to_s3(s3, s3_bucket, key, message.value)\n",
    "    print(f\"Written message {count} to {key}\")\n",
    "    sleep(1)  # Optional: Add a sleep to throttle the message consumption"
   ]
  }
 ],
 "metadata": {
  "kernelspec": {
   "display_name": "Python 3 (ipykernel)",
   "language": "python",
   "name": "python3"
  },
  "language_info": {
   "codemirror_mode": {
    "name": "ipython",
    "version": 3
   },
   "file_extension": ".py",
   "mimetype": "text/x-python",
   "name": "python",
   "nbconvert_exporter": "python",
   "pygments_lexer": "ipython3",
   "version": "3.9.13"
  }
 },
 "nbformat": 4,
 "nbformat_minor": 5
}
