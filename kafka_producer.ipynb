{
 "cells": [
  {
   "cell_type": "code",
   "execution_count": null,
   "id": "dc53fa16-50a5-40d1-91a0-32d5f4c4cf80",
   "metadata": {},
   "outputs": [],
   "source": [
    "import pandas as pd\n",
    "from kafka import KafkaProducer\n",
    "from time import sleep\n",
    "from json import dumps"
   ]
  },
  {
   "cell_type": "code",
   "execution_count": null,
   "id": "bb089c23-b3df-455e-99c8-f2424e3d9022",
   "metadata": {},
   "outputs": [],
   "source": [
    "def initialize_producer(bootstrap_servers):\n",
    "    \"\"\"Initialize Kafka producer.\"\"\"\n",
    "    return KafkaProducer(\n",
    "        bootstrap_servers=bootstrap_servers,\n",
    "        value_serializer=lambda x: dumps(x).encode('utf-8')\n",
    "    )"
   ]
  },
  {
   "cell_type": "code",
   "execution_count": null,
   "id": "fb19b4bb-7d31-4406-be15-0df176dccb94",
   "metadata": {},
   "outputs": [],
   "source": [
    "def send_initial_message(producer, topic, message):\n",
    "    producer.send(topic, value=message)\n",
    "\n",
    "def read_data(file_path):\n",
    "    return pd.read_csv(file_path)\n",
    "\n",
    "def produce_messages(producer, topic, df, delay):\n",
    "    while True:\n",
    "        dict_stock = df.sample(1).to_dict(orient=\"records\")[0]\n",
    "        producer.send(topic, value=dict_stock)\n",
    "        sleep(delay)"
   ]
  },
  {
   "cell_type": "code",
   "execution_count": null,
   "id": "7e38c10c-d9ed-4038-8cb3-9eef75b87e2b",
   "metadata": {},
   "outputs": [],
   "source": [
    "bootstrap_servers = ['your_ip_here:9092']  # Replace with your IP\n",
    "topic = 'demo_test'\n",
    "csv_file_path = \"indexProcessed.csv\"\n",
    "initial_message = {'lastname': 'Vadla'}\n",
    "delay = 1  # delay in seconds\n",
    "\n",
    "producer = initialize_producer(bootstrap_servers)\n",
    "send_initial_message(producer, topic, initial_message)\n",
    "    \n",
    "df = read_data(csv_file_path)\n",
    "    \n",
    "try:\n",
    "    produce_messages(producer, topic, df, delay)\n",
    "except KeyboardInterrupt:\n",
    "    print(\"Shutting down producer.\")\n",
    "finally:\n",
    "    producer.flush()  # Ensure all messages are sent"
   ]
  }
 ],
 "metadata": {
  "kernelspec": {
   "display_name": "Python 3 (ipykernel)",
   "language": "python",
   "name": "python3"
  },
  "language_info": {
   "codemirror_mode": {
    "name": "ipython",
    "version": 3
   },
   "file_extension": ".py",
   "mimetype": "text/x-python",
   "name": "python",
   "nbconvert_exporter": "python",
   "pygments_lexer": "ipython3",
   "version": "3.9.13"
  }
 },
 "nbformat": 4,
 "nbformat_minor": 5
}
